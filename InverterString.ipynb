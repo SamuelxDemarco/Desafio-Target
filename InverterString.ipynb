{
 "cells": [
  {
   "cell_type": "code",
   "execution_count": 3,
   "id": "d3d764e4",
   "metadata": {},
   "outputs": [
    {
     "name": "stdout",
     "output_type": "stream",
     "text": [
      "Digite uma palavra ou frase: target\n",
      "Texto original: target\n",
      "Texto invertido: tegrat\n"
     ]
    }
   ],
   "source": [
    "texto = input('Digite uma palavra ou frase: ')  # pode ser substituído por texto = 'exemplo'\n",
    "\n",
    "texto_invertido = ''\n",
    "for i in range(len(texto) - 1, -1, -1):\n",
    "    texto_invertido += texto[i]\n",
    "\n",
    "print(f'Texto original: {texto}')\n",
    "print(f'Texto invertido: {texto_invertido}')"
   ]
  },
  {
   "cell_type": "code",
   "execution_count": null,
   "id": "dd7c0f92",
   "metadata": {},
   "outputs": [],
   "source": []
  }
 ],
 "metadata": {
  "kernelspec": {
   "display_name": "Python 3 (ipykernel)",
   "language": "python",
   "name": "python3"
  },
  "language_info": {
   "codemirror_mode": {
    "name": "ipython",
    "version": 3
   },
   "file_extension": ".py",
   "mimetype": "text/x-python",
   "name": "python",
   "nbconvert_exporter": "python",
   "pygments_lexer": "ipython3",
   "version": "3.9.12"
  }
 },
 "nbformat": 4,
 "nbformat_minor": 5
}
