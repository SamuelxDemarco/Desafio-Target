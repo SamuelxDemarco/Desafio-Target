{
 "cells": [
  {
   "cell_type": "code",
   "execution_count": 1,
   "id": "cb7fae0d",
   "metadata": {},
   "outputs": [],
   "source": [
    "import json"
   ]
  },
  {
   "cell_type": "code",
   "execution_count": 2,
   "id": "273dc24f",
   "metadata": {},
   "outputs": [],
   "source": [
    "# Lê o arquivo JSON com os valores diários de faturamento\n",
    "with open('faturamento.json', 'r') as f:\n",
    "    faturamento = json.load(f)"
   ]
  },
  {
   "cell_type": "code",
   "execution_count": 3,
   "id": "523052a3",
   "metadata": {},
   "outputs": [],
   "source": [
    "# Inicializa as variáveis de mínimo, máximo e soma dos valores\n",
    "min_valor = float('inf')\n",
    "max_valor = float('-inf')\n",
    "soma_valores = 0.0"
   ]
  },
  {
   "cell_type": "code",
   "execution_count": 4,
   "id": "a92f8e9b",
   "metadata": {},
   "outputs": [],
   "source": [
    "# Conta o número de dias com faturamento maior que a média\n",
    "num_dias_acima_media = 0\n",
    "num_dias_validos = 0"
   ]
  },
  {
   "cell_type": "code",
   "execution_count": 11,
   "id": "8abc39f0",
   "metadata": {},
   "outputs": [],
   "source": [
    "# Percorre os valores diários de faturamento\n",
    "for dia in faturamento:\n",
    "    valor = dia['valor']\n",
    "    # Ignora dias sem faturamento\n",
    "    if valor == 0:\n",
    "        continue\n",
    "     # Atualiza o mínimo e máximo\n",
    "    if valor < min_valor:\n",
    "        min_valor = valor\n",
    "    if valor > max_valor:\n",
    "        max_valor = valor\n",
    "    # Atualiza a soma e o número de dias válidos\n",
    "    soma_valores += valor\n",
    "    num_dias_validos += 1"
   ]
  },
  {
   "cell_type": "code",
   "execution_count": 12,
   "id": "5a72a88d",
   "metadata": {},
   "outputs": [],
   "source": [
    "# Calcula a média mensal\n",
    "if num_dias_validos > 0:\n",
    "    media_mensal = soma_valores / num_dias_validos\n",
    "else:\n",
    "    media_mensal = 0"
   ]
  },
  {
   "cell_type": "code",
   "execution_count": 13,
   "id": "cdf47ddd",
   "metadata": {},
   "outputs": [],
   "source": [
    "# Conta o número de dias com faturamento acima da média\n",
    "for dia in faturamento:\n",
    "    valor = dia['valor']\n",
    "    \n",
    "    # Ignora dias sem faturamento\n",
    "    if valor == 0:\n",
    "        continue\n",
    "    \n",
    "    if valor > media_mensal:\n",
    "        num_dias_acima_media += 1"
   ]
  },
  {
   "cell_type": "code",
   "execution_count": 14,
   "id": "e9e96177",
   "metadata": {},
   "outputs": [
    {
     "name": "stdout",
     "output_type": "stream",
     "text": [
      "Menor valor de faturamento: R$ 373.78\n",
      "Maior valor de faturamento: R$ 48924.24\n",
      "Número de dias com faturamento acima da média mensal: 10\n"
     ]
    }
   ],
   "source": [
    "# Imprime os resultados\n",
    "print(\"Menor valor de faturamento: R$ {:.2f}\".format(min_valor))\n",
    "print(\"Maior valor de faturamento: R$ {:.2f}\".format(max_valor))\n",
    "print(\"Número de dias com faturamento acima da média mensal: {}\".format(num_dias_acima_media))"
   ]
  },
  {
   "cell_type": "code",
   "execution_count": null,
   "id": "7e19b8dd",
   "metadata": {},
   "outputs": [],
   "source": []
  }
 ],
 "metadata": {
  "kernelspec": {
   "display_name": "Python 3 (ipykernel)",
   "language": "python",
   "name": "python3"
  },
  "language_info": {
   "codemirror_mode": {
    "name": "ipython",
    "version": 3
   },
   "file_extension": ".py",
   "mimetype": "text/x-python",
   "name": "python",
   "nbconvert_exporter": "python",
   "pygments_lexer": "ipython3",
   "version": "3.9.12"
  }
 },
 "nbformat": 4,
 "nbformat_minor": 5
}
